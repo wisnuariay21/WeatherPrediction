{
 "cells": [
  {
   "cell_type": "code",
   "execution_count": 8,
   "metadata": {
    "executionInfo": {
     "elapsed": 1322,
     "status": "ok",
     "timestamp": 1631252112312,
     "user": {
      "displayName": "WISNU ARIA YUSTISIA _",
      "photoUrl": "https://lh3.googleusercontent.com/a/default-user=s64",
      "userId": "03521300089568501135"
     },
     "user_tz": -420
    },
    "id": "QfWdwrPVgWnL"
   },
   "outputs": [],
   "source": [
    "import pandas as pd\n",
    "import numpy as np\n",
    "from sklearn.tree import DecisionTreeClassifier\n",
    "from sklearn.model_selection import train_test_split\n",
    "from sklearn.metrics import accuracy_score"
   ]
  },
  {
   "cell_type": "code",
   "execution_count": 9,
   "metadata": {
    "colab": {
     "base_uri": "https://localhost:8080/",
     "height": 320
    },
    "executionInfo": {
     "elapsed": 335,
     "status": "error",
     "timestamp": 1631252293219,
     "user": {
      "displayName": "WISNU ARIA YUSTISIA _",
      "photoUrl": "https://lh3.googleusercontent.com/a/default-user=s64",
      "userId": "03521300089568501135"
     },
     "user_tz": -420
    },
    "id": "Rxnm9qhgM-aZ",
    "outputId": "2f93a7b9-afe8-43c8-a6af-2ab104e116ba"
   },
   "outputs": [
    {
     "data": {
      "text/html": [
       "<div>\n",
       "<style scoped>\n",
       "    .dataframe tbody tr th:only-of-type {\n",
       "        vertical-align: middle;\n",
       "    }\n",
       "\n",
       "    .dataframe tbody tr th {\n",
       "        vertical-align: top;\n",
       "    }\n",
       "\n",
       "    .dataframe thead th {\n",
       "        text-align: right;\n",
       "    }\n",
       "</style>\n",
       "<table border=\"1\" class=\"dataframe\">\n",
       "  <thead>\n",
       "    <tr style=\"text-align: right;\">\n",
       "      <th></th>\n",
       "      <th>year</th>\n",
       "      <th>month</th>\n",
       "      <th>day</th>\n",
       "      <th>hour</th>\n",
       "      <th>air_temp</th>\n",
       "      <th>dew_point</th>\n",
       "      <th>wind_speed</th>\n",
       "    </tr>\n",
       "  </thead>\n",
       "  <tbody>\n",
       "    <tr>\n",
       "      <th>0</th>\n",
       "      <td>2009</td>\n",
       "      <td>1</td>\n",
       "      <td>1</td>\n",
       "      <td>1</td>\n",
       "      <td>-13.3</td>\n",
       "      <td>-16.7</td>\n",
       "      <td>15.0</td>\n",
       "    </tr>\n",
       "    <tr>\n",
       "      <th>1</th>\n",
       "      <td>2009</td>\n",
       "      <td>1</td>\n",
       "      <td>1</td>\n",
       "      <td>2</td>\n",
       "      <td>-13.3</td>\n",
       "      <td>-16.1</td>\n",
       "      <td>26.0</td>\n",
       "    </tr>\n",
       "    <tr>\n",
       "      <th>2</th>\n",
       "      <td>2009</td>\n",
       "      <td>1</td>\n",
       "      <td>1</td>\n",
       "      <td>3</td>\n",
       "      <td>-12.2</td>\n",
       "      <td>-15.6</td>\n",
       "      <td>0.0</td>\n",
       "    </tr>\n",
       "    <tr>\n",
       "      <th>3</th>\n",
       "      <td>2009</td>\n",
       "      <td>1</td>\n",
       "      <td>1</td>\n",
       "      <td>4</td>\n",
       "      <td>-11.7</td>\n",
       "      <td>-15.0</td>\n",
       "      <td>0.0</td>\n",
       "    </tr>\n",
       "    <tr>\n",
       "      <th>4</th>\n",
       "      <td>2009</td>\n",
       "      <td>1</td>\n",
       "      <td>1</td>\n",
       "      <td>5</td>\n",
       "      <td>-11.1</td>\n",
       "      <td>-15.0</td>\n",
       "      <td>15.0</td>\n",
       "    </tr>\n",
       "    <tr>\n",
       "      <th>...</th>\n",
       "      <td>...</td>\n",
       "      <td>...</td>\n",
       "      <td>...</td>\n",
       "      <td>...</td>\n",
       "      <td>...</td>\n",
       "      <td>...</td>\n",
       "      <td>...</td>\n",
       "    </tr>\n",
       "    <tr>\n",
       "      <th>4335</th>\n",
       "      <td>2009</td>\n",
       "      <td>6</td>\n",
       "      <td>30</td>\n",
       "      <td>19</td>\n",
       "      <td>17.8</td>\n",
       "      <td>11.1</td>\n",
       "      <td>41.0</td>\n",
       "    </tr>\n",
       "    <tr>\n",
       "      <th>4336</th>\n",
       "      <td>2009</td>\n",
       "      <td>6</td>\n",
       "      <td>30</td>\n",
       "      <td>20</td>\n",
       "      <td>18.9</td>\n",
       "      <td>11.7</td>\n",
       "      <td>46.0</td>\n",
       "    </tr>\n",
       "    <tr>\n",
       "      <th>4337</th>\n",
       "      <td>2009</td>\n",
       "      <td>6</td>\n",
       "      <td>30</td>\n",
       "      <td>21</td>\n",
       "      <td>18.3</td>\n",
       "      <td>11.1</td>\n",
       "      <td>36.0</td>\n",
       "    </tr>\n",
       "    <tr>\n",
       "      <th>4338</th>\n",
       "      <td>2009</td>\n",
       "      <td>6</td>\n",
       "      <td>30</td>\n",
       "      <td>22</td>\n",
       "      <td>18.9</td>\n",
       "      <td>11.1</td>\n",
       "      <td>46.0</td>\n",
       "    </tr>\n",
       "    <tr>\n",
       "      <th>4339</th>\n",
       "      <td>2009</td>\n",
       "      <td>6</td>\n",
       "      <td>30</td>\n",
       "      <td>23</td>\n",
       "      <td>18.3</td>\n",
       "      <td>11.7</td>\n",
       "      <td>46.0</td>\n",
       "    </tr>\n",
       "  </tbody>\n",
       "</table>\n",
       "<p>4340 rows × 7 columns</p>\n",
       "</div>"
      ],
      "text/plain": [
       "      year  month  day  hour  air_temp  dew_point  wind_speed\n",
       "0     2009      1    1     1     -13.3      -16.7        15.0\n",
       "1     2009      1    1     2     -13.3      -16.1        26.0\n",
       "2     2009      1    1     3     -12.2      -15.6         0.0\n",
       "3     2009      1    1     4     -11.7      -15.0         0.0\n",
       "4     2009      1    1     5     -11.1      -15.0        15.0\n",
       "...    ...    ...  ...   ...       ...        ...         ...\n",
       "4335  2009      6   30    19      17.8       11.1        41.0\n",
       "4336  2009      6   30    20      18.9       11.7        46.0\n",
       "4337  2009      6   30    21      18.3       11.1        36.0\n",
       "4338  2009      6   30    22      18.9       11.1        46.0\n",
       "4339  2009      6   30    23      18.3       11.7        46.0\n",
       "\n",
       "[4340 rows x 7 columns]"
      ]
     },
     "execution_count": 9,
     "metadata": {},
     "output_type": "execute_result"
    }
   ],
   "source": [
    "df = pd.read_csv('weather.csv')\n",
    "df"
   ]
  },
  {
   "cell_type": "code",
   "execution_count": 10,
   "metadata": {},
   "outputs": [
    {
     "name": "stdout",
     "output_type": "stream",
     "text": [
      "<class 'pandas.core.frame.DataFrame'>\n",
      "RangeIndex: 4340 entries, 0 to 4339\n",
      "Data columns (total 7 columns):\n",
      " #   Column      Non-Null Count  Dtype  \n",
      "---  ------      --------------  -----  \n",
      " 0   year        4340 non-null   int64  \n",
      " 1   month       4340 non-null   int64  \n",
      " 2   day         4340 non-null   int64  \n",
      " 3   hour        4340 non-null   int64  \n",
      " 4   air_temp    4161 non-null   float64\n",
      " 5   dew_point   4161 non-null   float64\n",
      " 6   wind_speed  4151 non-null   float64\n",
      "dtypes: float64(3), int64(4)\n",
      "memory usage: 237.5 KB\n"
     ]
    }
   ],
   "source": [
    "df.info()"
   ]
  },
  {
   "cell_type": "code",
   "execution_count": 11,
   "metadata": {},
   "outputs": [
    {
     "data": {
      "text/plain": [
       "year            0\n",
       "month           0\n",
       "day             0\n",
       "hour            0\n",
       "air_temp      179\n",
       "dew_point     179\n",
       "wind_speed    189\n",
       "dtype: int64"
      ]
     },
     "execution_count": 11,
     "metadata": {},
     "output_type": "execute_result"
    }
   ],
   "source": [
    "df.isna().sum()"
   ]
  },
  {
   "cell_type": "code",
   "execution_count": 12,
   "metadata": {
    "scrolled": false
   },
   "outputs": [
    {
     "data": {
      "text/html": [
       "<div>\n",
       "<style scoped>\n",
       "    .dataframe tbody tr th:only-of-type {\n",
       "        vertical-align: middle;\n",
       "    }\n",
       "\n",
       "    .dataframe tbody tr th {\n",
       "        vertical-align: top;\n",
       "    }\n",
       "\n",
       "    .dataframe thead th {\n",
       "        text-align: right;\n",
       "    }\n",
       "</style>\n",
       "<table border=\"1\" class=\"dataframe\">\n",
       "  <thead>\n",
       "    <tr style=\"text-align: right;\">\n",
       "      <th></th>\n",
       "      <th>year</th>\n",
       "      <th>month</th>\n",
       "      <th>day</th>\n",
       "      <th>hour</th>\n",
       "      <th>air_temp</th>\n",
       "      <th>dew_point</th>\n",
       "      <th>wind_speed</th>\n",
       "    </tr>\n",
       "  </thead>\n",
       "  <tbody>\n",
       "    <tr>\n",
       "      <th>count</th>\n",
       "      <td>4340.0</td>\n",
       "      <td>4340.000000</td>\n",
       "      <td>4340.000000</td>\n",
       "      <td>4340.000000</td>\n",
       "      <td>4161.000000</td>\n",
       "      <td>4161.000000</td>\n",
       "      <td>4151.000000</td>\n",
       "    </tr>\n",
       "    <tr>\n",
       "      <th>mean</th>\n",
       "      <td>2009.0</td>\n",
       "      <td>3.507143</td>\n",
       "      <td>15.603226</td>\n",
       "      <td>11.505069</td>\n",
       "      <td>4.738909</td>\n",
       "      <td>-0.982672</td>\n",
       "      <td>43.335823</td>\n",
       "    </tr>\n",
       "    <tr>\n",
       "      <th>std</th>\n",
       "      <td>0.0</td>\n",
       "      <td>1.709266</td>\n",
       "      <td>8.737085</td>\n",
       "      <td>6.923326</td>\n",
       "      <td>11.401805</td>\n",
       "      <td>10.590351</td>\n",
       "      <td>24.630659</td>\n",
       "    </tr>\n",
       "    <tr>\n",
       "      <th>min</th>\n",
       "      <td>2009.0</td>\n",
       "      <td>1.000000</td>\n",
       "      <td>1.000000</td>\n",
       "      <td>0.000000</td>\n",
       "      <td>-29.400000</td>\n",
       "      <td>-32.800000</td>\n",
       "      <td>0.000000</td>\n",
       "    </tr>\n",
       "    <tr>\n",
       "      <th>25%</th>\n",
       "      <td>2009.0</td>\n",
       "      <td>2.000000</td>\n",
       "      <td>8.000000</td>\n",
       "      <td>5.750000</td>\n",
       "      <td>-3.300000</td>\n",
       "      <td>-8.300000</td>\n",
       "      <td>26.000000</td>\n",
       "    </tr>\n",
       "    <tr>\n",
       "      <th>50%</th>\n",
       "      <td>2009.0</td>\n",
       "      <td>4.000000</td>\n",
       "      <td>16.000000</td>\n",
       "      <td>12.000000</td>\n",
       "      <td>4.400000</td>\n",
       "      <td>-1.100000</td>\n",
       "      <td>41.000000</td>\n",
       "    </tr>\n",
       "    <tr>\n",
       "      <th>75%</th>\n",
       "      <td>2009.0</td>\n",
       "      <td>5.000000</td>\n",
       "      <td>23.000000</td>\n",
       "      <td>18.000000</td>\n",
       "      <td>13.300000</td>\n",
       "      <td>7.200000</td>\n",
       "      <td>62.000000</td>\n",
       "    </tr>\n",
       "    <tr>\n",
       "      <th>max</th>\n",
       "      <td>2009.0</td>\n",
       "      <td>6.000000</td>\n",
       "      <td>31.000000</td>\n",
       "      <td>23.000000</td>\n",
       "      <td>33.300000</td>\n",
       "      <td>23.300000</td>\n",
       "      <td>165.000000</td>\n",
       "    </tr>\n",
       "  </tbody>\n",
       "</table>\n",
       "</div>"
      ],
      "text/plain": [
       "         year        month          day         hour     air_temp  \\\n",
       "count  4340.0  4340.000000  4340.000000  4340.000000  4161.000000   \n",
       "mean   2009.0     3.507143    15.603226    11.505069     4.738909   \n",
       "std       0.0     1.709266     8.737085     6.923326    11.401805   \n",
       "min    2009.0     1.000000     1.000000     0.000000   -29.400000   \n",
       "25%    2009.0     2.000000     8.000000     5.750000    -3.300000   \n",
       "50%    2009.0     4.000000    16.000000    12.000000     4.400000   \n",
       "75%    2009.0     5.000000    23.000000    18.000000    13.300000   \n",
       "max    2009.0     6.000000    31.000000    23.000000    33.300000   \n",
       "\n",
       "         dew_point   wind_speed  \n",
       "count  4161.000000  4151.000000  \n",
       "mean     -0.982672    43.335823  \n",
       "std      10.590351    24.630659  \n",
       "min     -32.800000     0.000000  \n",
       "25%      -8.300000    26.000000  \n",
       "50%      -1.100000    41.000000  \n",
       "75%       7.200000    62.000000  \n",
       "max      23.300000   165.000000  "
      ]
     },
     "execution_count": 12,
     "metadata": {},
     "output_type": "execute_result"
    }
   ],
   "source": [
    "df.describe()"
   ]
  },
  {
   "cell_type": "markdown",
   "metadata": {},
   "source": [
    "Remove NULL Value"
   ]
  },
  {
   "cell_type": "code",
   "execution_count": 13,
   "metadata": {},
   "outputs": [
    {
     "name": "stdout",
     "output_type": "stream",
     "text": [
      "<class 'pandas.core.frame.DataFrame'>\n",
      "RangeIndex: 4340 entries, 0 to 4339\n",
      "Data columns (total 7 columns):\n",
      " #   Column      Non-Null Count  Dtype  \n",
      "---  ------      --------------  -----  \n",
      " 0   year        4340 non-null   float64\n",
      " 1   month       4340 non-null   float64\n",
      " 2   day         4340 non-null   float64\n",
      " 3   hour        4340 non-null   float64\n",
      " 4   air_temp    4340 non-null   float64\n",
      " 5   dew_point   4340 non-null   float64\n",
      " 6   wind_speed  4340 non-null   float64\n",
      "dtypes: float64(7)\n",
      "memory usage: 237.5 KB\n"
     ]
    }
   ],
   "source": [
    "from sklearn.impute import SimpleImputer\n",
    "df.replace('NaN',np.NaN,inplace=True)\n",
    "imp=SimpleImputer(missing_values=np.NaN, strategy='mean')\n",
    "idf=pd.DataFrame(imp.fit_transform(df))\n",
    "idf.columns=df.columns\n",
    "idf.index=df.index\n",
    "idf.info()"
   ]
  },
  {
   "cell_type": "code",
   "execution_count": 14,
   "metadata": {},
   "outputs": [
    {
     "data": {
      "text/plain": [
       "year          0\n",
       "month         0\n",
       "day           0\n",
       "hour          0\n",
       "air_temp      0\n",
       "dew_point     0\n",
       "wind_speed    0\n",
       "dtype: int64"
      ]
     },
     "execution_count": 14,
     "metadata": {},
     "output_type": "execute_result"
    }
   ],
   "source": [
    "idf.isna().sum()"
   ]
  },
  {
   "cell_type": "code",
   "execution_count": 17,
   "metadata": {},
   "outputs": [
    {
     "data": {
      "image/png": "[encoded data removed]",
      "text/plain": [
       "<Figure size 864x648 with 1 Axes>"
      ]
     },
     "metadata": {
      "needs_background": "light"
     },
     "output_type": "display_data"
    }
   ],
   "source": [
    "import matplotlib.pyplot as plt\n",
    "%matplotlib inline\n",
    "\n",
    "time_data = idf.loc[(idf['month'] == 2) & (idf['day'] == 15)]\n",
    "time_data = time_data.set_index('hour')\n",
    "\n",
    "plt.figure(figsize=(12, 9))\n",
    "plt.plot(time_data['air_temp'].interpolate(method='nearest'))\n",
    "plt.xticks(np.arange(0, 24, step=1))\n",
    "plt.title('Air Temperature Time Series')\n",
    "plt.xlabel('hour')\n",
    "plt.ylabel('air_temp')\n",
    "plt.show()"
   ]
  },
  {
   "cell_type": "code",
   "execution_count": 39,
   "metadata": {},
   "outputs": [
    {
     "data": {
      "image/png": "[encoded data removed]",
      "text/plain": [
       "<Figure size 570.875x720 with 1 Axes>"
      ]
     },
     "metadata": {
      "needs_background": "light"
     },
     "output_type": "display_data"
    }
   ],
   "source": [
    "import seaborn as sns\n",
    "full_df = pd.get_dummies(idf)\n",
    "sns.relplot(\n",
    "    data=full_df,\n",
    "    x=\"dew_point\", y=\"air_temp\", hue='wind_speed', height=10, aspect=.7);"
   ]
  },
  {
   "cell_type": "markdown",
   "metadata": {},
   "source": [
    "The Gap between each value is to big, here we need to convert value into 0 - 3"
   ]
  },
  {
   "cell_type": "code",
   "execution_count": 8,
   "metadata": {},
   "outputs": [
    {
     "data": {
      "text/plain": [
       "<bound method DataFrame.info of         0    1    2         3         4         5         6\n",
       "0     0.0  0.0  0.0  0.130435  0.770335  0.860963  0.272727\n",
       "1     0.0  0.0  0.0  0.260870  0.770335  0.893048  0.472727\n",
       "2     0.0  0.0  0.0  0.391304  0.822967  0.919786  0.000000\n",
       "3     0.0  0.0  0.0  0.521739  0.846890  0.951872  0.000000\n",
       "4     0.0  0.0  0.0  0.652174  0.875598  0.951872  0.272727\n",
       "...   ...  ...  ...       ...       ...       ...       ...\n",
       "4335  0.0  3.0  2.9  2.478261  2.258373  2.347594  0.745455\n",
       "4336  0.0  3.0  2.9  2.608696  2.311005  2.379679  0.836364\n",
       "4337  0.0  3.0  2.9  2.739130  2.282297  2.347594  0.654545\n",
       "4338  0.0  3.0  2.9  2.869565  2.311005  2.347594  0.836364\n",
       "4339  0.0  3.0  2.9  3.000000  2.282297  2.379679  0.836364\n",
       "\n",
       "[4340 rows x 7 columns]>"
      ]
     },
     "execution_count": 8,
     "metadata": {},
     "output_type": "execute_result"
    }
   ],
   "source": [
    "from sklearn import preprocessing\n",
    "scaler = preprocessing.MinMaxScaler(feature_range=(0, 3))\n",
    "idf = scaler.fit_transform(idf)\n",
    "\n",
    "df_idf = pd.DataFrame(idf)\n",
    "df_idf.info"
   ]
  },
  {
   "cell_type": "code",
   "execution_count": 16,
   "metadata": {},
   "outputs": [
    {
     "name": "stdout",
     "output_type": "stream",
     "text": [
      "<class 'pandas.core.frame.DataFrame'>\n",
      "RangeIndex: 4340 entries, 0 to 4339\n",
      "Data columns (total 7 columns):\n",
      " #   Column  Non-Null Count  Dtype\n",
      "---  ------  --------------  -----\n",
      " 0   0       4340 non-null   int64\n",
      " 1   1       4340 non-null   int64\n",
      " 2   2       4340 non-null   int64\n",
      " 3   3       4340 non-null   int64\n",
      " 4   4       4340 non-null   int64\n",
      " 5   5       4340 non-null   int64\n",
      " 6   6       4340 non-null   int64\n",
      "dtypes: int64(7)\n",
      "memory usage: 237.5 KB\n"
     ]
    }
   ],
   "source": [
    "#when use\n",
    "df_idf = df_idf.applymap(np.int64)\n",
    "df_idf.info()"
   ]
  },
  {
   "cell_type": "code",
   "execution_count": 46,
   "metadata": {},
   "outputs": [],
   "source": [
    "# X = df_idf.drop(columns=[0,6])\n",
    "# y = df_idf[6]\n",
    "# Xtrain,Xtest,ytrain,ytest = train_test_split(X,y,test_size=0.2)\n",
    "\n",
    "X = idf.drop(columns=[\"year\",\"wind_speed\"])\n",
    "y = idf[\"wind_speed\"]\n",
    "Xtrain,Xtest,ytrain,ytest = train_test_split(X,y,test_size=0.2)"
   ]
  },
  {
   "cell_type": "code",
   "execution_count": 47,
   "metadata": {},
   "outputs": [
    {
     "data": {
      "text/html": [
       "<div>\n",
       "<style scoped>\n",
       "    .dataframe tbody tr th:only-of-type {\n",
       "        vertical-align: middle;\n",
       "    }\n",
       "\n",
       "    .dataframe tbody tr th {\n",
       "        vertical-align: top;\n",
       "    }\n",
       "\n",
       "    .dataframe thead th {\n",
       "        text-align: right;\n",
       "    }\n",
       "</style>\n",
       "<table border=\"1\" class=\"dataframe\">\n",
       "  <thead>\n",
       "    <tr style=\"text-align: right;\">\n",
       "      <th></th>\n",
       "      <th>month</th>\n",
       "      <th>day</th>\n",
       "      <th>hour</th>\n",
       "      <th>air_temp</th>\n",
       "      <th>dew_point</th>\n",
       "    </tr>\n",
       "  </thead>\n",
       "  <tbody>\n",
       "    <tr>\n",
       "      <th>385</th>\n",
       "      <td>1.0</td>\n",
       "      <td>17.0</td>\n",
       "      <td>2.0</td>\n",
       "      <td>-20.0</td>\n",
       "      <td>-26.1</td>\n",
       "    </tr>\n",
       "    <tr>\n",
       "      <th>1477</th>\n",
       "      <td>3.0</td>\n",
       "      <td>3.0</td>\n",
       "      <td>14.0</td>\n",
       "      <td>-8.9</td>\n",
       "      <td>-12.8</td>\n",
       "    </tr>\n",
       "    <tr>\n",
       "      <th>3380</th>\n",
       "      <td>5.0</td>\n",
       "      <td>21.0</td>\n",
       "      <td>21.0</td>\n",
       "      <td>28.3</td>\n",
       "      <td>11.1</td>\n",
       "    </tr>\n",
       "    <tr>\n",
       "      <th>4182</th>\n",
       "      <td>6.0</td>\n",
       "      <td>24.0</td>\n",
       "      <td>10.0</td>\n",
       "      <td>22.2</td>\n",
       "      <td>21.1</td>\n",
       "    </tr>\n",
       "    <tr>\n",
       "      <th>3230</th>\n",
       "      <td>5.0</td>\n",
       "      <td>15.0</td>\n",
       "      <td>15.0</td>\n",
       "      <td>13.3</td>\n",
       "      <td>8.9</td>\n",
       "    </tr>\n",
       "    <tr>\n",
       "      <th>...</th>\n",
       "      <td>...</td>\n",
       "      <td>...</td>\n",
       "      <td>...</td>\n",
       "      <td>...</td>\n",
       "      <td>...</td>\n",
       "    </tr>\n",
       "    <tr>\n",
       "      <th>174</th>\n",
       "      <td>1.0</td>\n",
       "      <td>8.0</td>\n",
       "      <td>7.0</td>\n",
       "      <td>-9.4</td>\n",
       "      <td>-13.3</td>\n",
       "    </tr>\n",
       "    <tr>\n",
       "      <th>1816</th>\n",
       "      <td>3.0</td>\n",
       "      <td>17.0</td>\n",
       "      <td>17.0</td>\n",
       "      <td>19.4</td>\n",
       "      <td>6.7</td>\n",
       "    </tr>\n",
       "    <tr>\n",
       "      <th>3709</th>\n",
       "      <td>6.0</td>\n",
       "      <td>4.0</td>\n",
       "      <td>14.0</td>\n",
       "      <td>13.9</td>\n",
       "      <td>3.3</td>\n",
       "    </tr>\n",
       "    <tr>\n",
       "      <th>3494</th>\n",
       "      <td>5.0</td>\n",
       "      <td>26.0</td>\n",
       "      <td>15.0</td>\n",
       "      <td>10.6</td>\n",
       "      <td>8.3</td>\n",
       "    </tr>\n",
       "    <tr>\n",
       "      <th>678</th>\n",
       "      <td>1.0</td>\n",
       "      <td>29.0</td>\n",
       "      <td>7.0</td>\n",
       "      <td>-8.9</td>\n",
       "      <td>-12.2</td>\n",
       "    </tr>\n",
       "  </tbody>\n",
       "</table>\n",
       "<p>3472 rows × 5 columns</p>\n",
       "</div>"
      ],
      "text/plain": [
       "      month   day  hour  air_temp  dew_point\n",
       "385     1.0  17.0   2.0     -20.0      -26.1\n",
       "1477    3.0   3.0  14.0      -8.9      -12.8\n",
       "3380    5.0  21.0  21.0      28.3       11.1\n",
       "4182    6.0  24.0  10.0      22.2       21.1\n",
       "3230    5.0  15.0  15.0      13.3        8.9\n",
       "...     ...   ...   ...       ...        ...\n",
       "174     1.0   8.0   7.0      -9.4      -13.3\n",
       "1816    3.0  17.0  17.0      19.4        6.7\n",
       "3709    6.0   4.0  14.0      13.9        3.3\n",
       "3494    5.0  26.0  15.0      10.6        8.3\n",
       "678     1.0  29.0   7.0      -8.9      -12.2\n",
       "\n",
       "[3472 rows x 5 columns]"
      ]
     },
     "execution_count": 47,
     "metadata": {},
     "output_type": "execute_result"
    }
   ],
   "source": [
    "Xtrain"
   ]
  },
  {
   "cell_type": "code",
   "execution_count": 48,
   "metadata": {},
   "outputs": [
    {
     "data": {
      "text/html": [
       "<div>\n",
       "<style scoped>\n",
       "    .dataframe tbody tr th:only-of-type {\n",
       "        vertical-align: middle;\n",
       "    }\n",
       "\n",
       "    .dataframe tbody tr th {\n",
       "        vertical-align: top;\n",
       "    }\n",
       "\n",
       "    .dataframe thead th {\n",
       "        text-align: right;\n",
       "    }\n",
       "</style>\n",
       "<table border=\"1\" class=\"dataframe\">\n",
       "  <thead>\n",
       "    <tr style=\"text-align: right;\">\n",
       "      <th></th>\n",
       "      <th>month</th>\n",
       "      <th>day</th>\n",
       "      <th>hour</th>\n",
       "      <th>air_temp</th>\n",
       "      <th>dew_point</th>\n",
       "    </tr>\n",
       "  </thead>\n",
       "  <tbody>\n",
       "    <tr>\n",
       "      <th>613</th>\n",
       "      <td>1.0</td>\n",
       "      <td>26.0</td>\n",
       "      <td>14.0</td>\n",
       "      <td>-17.2</td>\n",
       "      <td>-22.2</td>\n",
       "    </tr>\n",
       "    <tr>\n",
       "      <th>3047</th>\n",
       "      <td>5.0</td>\n",
       "      <td>8.0</td>\n",
       "      <td>0.0</td>\n",
       "      <td>20.0</td>\n",
       "      <td>6.1</td>\n",
       "    </tr>\n",
       "    <tr>\n",
       "      <th>810</th>\n",
       "      <td>2.0</td>\n",
       "      <td>3.0</td>\n",
       "      <td>19.0</td>\n",
       "      <td>-7.8</td>\n",
       "      <td>-12.2</td>\n",
       "    </tr>\n",
       "    <tr>\n",
       "      <th>436</th>\n",
       "      <td>1.0</td>\n",
       "      <td>19.0</td>\n",
       "      <td>5.0</td>\n",
       "      <td>-12.8</td>\n",
       "      <td>-14.4</td>\n",
       "    </tr>\n",
       "    <tr>\n",
       "      <th>3103</th>\n",
       "      <td>5.0</td>\n",
       "      <td>10.0</td>\n",
       "      <td>8.0</td>\n",
       "      <td>5.0</td>\n",
       "      <td>2.8</td>\n",
       "    </tr>\n",
       "    <tr>\n",
       "      <th>...</th>\n",
       "      <td>...</td>\n",
       "      <td>...</td>\n",
       "      <td>...</td>\n",
       "      <td>...</td>\n",
       "      <td>...</td>\n",
       "    </tr>\n",
       "    <tr>\n",
       "      <th>1535</th>\n",
       "      <td>3.0</td>\n",
       "      <td>6.0</td>\n",
       "      <td>0.0</td>\n",
       "      <td>13.9</td>\n",
       "      <td>8.9</td>\n",
       "    </tr>\n",
       "    <tr>\n",
       "      <th>964</th>\n",
       "      <td>2.0</td>\n",
       "      <td>10.0</td>\n",
       "      <td>5.0</td>\n",
       "      <td>6.1</td>\n",
       "      <td>6.1</td>\n",
       "    </tr>\n",
       "    <tr>\n",
       "      <th>1738</th>\n",
       "      <td>3.0</td>\n",
       "      <td>14.0</td>\n",
       "      <td>11.0</td>\n",
       "      <td>-3.3</td>\n",
       "      <td>-6.1</td>\n",
       "    </tr>\n",
       "    <tr>\n",
       "      <th>3559</th>\n",
       "      <td>5.0</td>\n",
       "      <td>29.0</td>\n",
       "      <td>8.0</td>\n",
       "      <td>13.3</td>\n",
       "      <td>11.7</td>\n",
       "    </tr>\n",
       "    <tr>\n",
       "      <th>4140</th>\n",
       "      <td>6.0</td>\n",
       "      <td>22.0</td>\n",
       "      <td>16.0</td>\n",
       "      <td>27.2</td>\n",
       "      <td>20.0</td>\n",
       "    </tr>\n",
       "  </tbody>\n",
       "</table>\n",
       "<p>868 rows × 5 columns</p>\n",
       "</div>"
      ],
      "text/plain": [
       "      month   day  hour  air_temp  dew_point\n",
       "613     1.0  26.0  14.0     -17.2      -22.2\n",
       "3047    5.0   8.0   0.0      20.0        6.1\n",
       "810     2.0   3.0  19.0      -7.8      -12.2\n",
       "436     1.0  19.0   5.0     -12.8      -14.4\n",
       "3103    5.0  10.0   8.0       5.0        2.8\n",
       "...     ...   ...   ...       ...        ...\n",
       "1535    3.0   6.0   0.0      13.9        8.9\n",
       "964     2.0  10.0   5.0       6.1        6.1\n",
       "1738    3.0  14.0  11.0      -3.3       -6.1\n",
       "3559    5.0  29.0   8.0      13.3       11.7\n",
       "4140    6.0  22.0  16.0      27.2       20.0\n",
       "\n",
       "[868 rows x 5 columns]"
      ]
     },
     "execution_count": 48,
     "metadata": {},
     "output_type": "execute_result"
    }
   ],
   "source": [
    "Xtest"
   ]
  },
  {
   "cell_type": "code",
   "execution_count": 49,
   "metadata": {},
   "outputs": [
    {
     "data": {
      "text/plain": [
       "613     26.000000\n",
       "3047    62.000000\n",
       "810     72.000000\n",
       "436     31.000000\n",
       "3103    26.000000\n",
       "          ...    \n",
       "1535    67.000000\n",
       "964     51.000000\n",
       "1738    26.000000\n",
       "3559    41.000000\n",
       "4140    43.335823\n",
       "Name: wind_speed, Length: 868, dtype: float64"
      ]
     },
     "execution_count": 49,
     "metadata": {},
     "output_type": "execute_result"
    }
   ],
   "source": [
    "ytest"
   ]
  },
  {
   "cell_type": "code",
   "execution_count": 50,
   "metadata": {},
   "outputs": [
    {
     "data": {
      "text/plain": [
       "385      46.0\n",
       "1477      0.0\n",
       "3380     67.0\n",
       "4182     21.0\n",
       "3230     57.0\n",
       "        ...  \n",
       "174      57.0\n",
       "1816    113.0\n",
       "3709      0.0\n",
       "3494     41.0\n",
       "678      57.0\n",
       "Name: wind_speed, Length: 3472, dtype: float64"
      ]
     },
     "execution_count": 50,
     "metadata": {},
     "output_type": "execute_result"
    }
   ],
   "source": [
    "ytrain"
   ]
  },
  {
   "cell_type": "markdown",
   "metadata": {},
   "source": [
    "Consequently python (scikit-learn) expects you to pass something that is label-like, thus: integer, string, etc. floats are not a typical encoding form of finite space, they are used for regression. Thus is short you seem to be confusing classification and regression. How to distinguish?\n",
    "\n",
    "-if you have y as floats, but only a finite number of different values can be obtained, and all of them are obtained in training set, then this is classification - just convert your values to strings or integers and you are good to go.\n",
    "\n",
    "-if you have y as floats, and this are actuall real values, and you can have plenty of values, even not seen in the training set and you expect your model to somehow \"interpolate\" this is regression and you are supposed to use DecisionTreeRegressor instead."
   ]
  },
  {
   "cell_type": "code",
   "execution_count": 22,
   "metadata": {},
   "outputs": [
    {
     "data": {
      "text/plain": [
       "0.7315668202764977"
      ]
     },
     "execution_count": 22,
     "metadata": {},
     "output_type": "execute_result"
    }
   ],
   "source": [
    "#with int64 data type\n",
    "from sklearn.metrics import accuracy_score\n",
    "model = DecisionTreeClassifier()\n",
    "model.fit(Xtrain,ytrain)\n",
    "pred = model.predict(Xtest)\n",
    "accuracy_score(ytest, pred)"
   ]
  },
  {
   "cell_type": "code",
   "execution_count": 53,
   "metadata": {},
   "outputs": [
    {
     "name": "stdout",
     "output_type": "stream",
     "text": [
      "      Actual  Predicted\n",
      "613     26.0  43.384992\n",
      "3047    62.0  44.994225\n",
      "810     72.0  46.987382\n",
      "436     31.0  38.338779\n",
      "3103    26.0  30.123668\n",
      "379     67.0  49.171627\n",
      "665     36.0  49.819931\n",
      "560     26.0  42.891792\n",
      "2073    51.0  38.383632\n",
      "2820    82.0  40.062437\n"
     ]
    }
   ],
   "source": [
    "from sklearn.ensemble import RandomForestClassifier\n",
    "from sklearn.linear_model import LogisticRegression\n",
    "from sklearn.linear_model import LinearRegression\n",
    "model =  LinearRegression()\n",
    "model.fit(Xtrain,ytrain)\n",
    "\n",
    "ypred = model.predict(Xtest)\n",
    "\n",
    "df = pd.DataFrame({'Actual': ytest, 'Predicted': ypred},index=None)\n",
    "print(df.head(10))"
   ]
  },
  {
   "cell_type": "code",
   "execution_count": 55,
   "metadata": {},
   "outputs": [
    {
     "data": {
      "text/plain": [
       "array([48.86352116])"
      ]
     },
     "execution_count": 55,
     "metadata": {},
     "output_type": "execute_result"
    }
   ],
   "source": [
    "coba = model.predict([[0.0, 0.0 , 0.130435 , 0.770335 , 0.860963]])\n",
    "coba"
   ]
  },
  {
   "cell_type": "code",
   "execution_count": 56,
   "metadata": {},
   "outputs": [
    {
     "name": "stdout",
     "output_type": "stream",
     "text": [
      "Mean Squared Error :  497.31355877802025\n",
      "Mean Absolute Error :  17.144130800299507\n"
     ]
    }
   ],
   "source": [
    "from sklearn.metrics import mean_absolute_error,mean_squared_error\n",
    "mse = mean_squared_error(ytest, ypred)\n",
    "mae = mean_absolute_error(ytest, ypred)\n",
    "print(\"Mean Squared Error : \", mse)\n",
    "print(\"Mean Absolute Error : \", mae)"
   ]
  },
  {
   "cell_type": "code",
   "execution_count": null,
   "metadata": {},
   "outputs": [],
   "source": []
  }
 ],
 "metadata": {
  "colab": {
   "authorship_tag": "ABX9TyPT3XPKL4QvLU49vTg1Wrk5",
   "name": "Untitled0.ipynb",
   "provenance": []
  },
  "kernelspec": {
   "display_name": "Python 3",
   "language": "python",
   "name": "python3"
  },
  "language_info": {
   "codemirror_mode": {
    "name": "ipython",
    "version": 3
   },
   "file_extension": ".py",
   "mimetype": "text/x-python",
   "name": "python",
   "nbconvert_exporter": "python",
   "pygments_lexer": "ipython3",
   "version": "3.7.7"
  }
 },
 "nbformat": 4,
 "nbformat_minor": 1
}
